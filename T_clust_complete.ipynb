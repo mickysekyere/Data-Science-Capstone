#!/usr/bin/env python
# coding: utf-8

# In[16]:


import pandas as pd
link = 'https://en.wikipedia.org/wiki/List_of_postal_codes_of_Canada:_M'

df = pd.read_html(link,header=0)[0]
df


# In[18]:


df = df[~(df['Borough']=='Not assigned')]
df.head()


# In[19]:


df.reset_index(inplace=True)
df.drop(columns='index',axis=1,inplace=True)
df


# In[20]:


df.shape


# ## Importing Libraries

# In[21]:


import numpy as np # library to handle data in a vectorized manner

import json # library to handle JSON files

import requests # library to handle requests
from pandas.io.json import json_normalize # tranform JSON file into a pandas dataframe


# In[22]:


get_ipython().system('pip install folium')
import folium # map rendering library

print('Folium imported.')


# In[23]:


# Matplotlib and associated plotting modules
import matplotlib.pyplot as plt
import matplotlib.cm as cm
import matplotlib.colors as colors

# import k-means from clustering stage
from sklearn.cluster import KMeans


# ## Processing to find lat,lng of addresses

# In[42]:


df = df.sort_values('Postal Code')
df


# In[43]:


geo_df = pd.read_csv('http://cocl.us/Geospatial_data')
geo_df


# In[44]:


toronto_df = pd.merge(df,geo_df,on='Postal Code')
toronto_df


# ## Processing to work with borough containing Toronto

# In[50]:


t_df = toronto_df[toronto_df['Borough'].str.contains('Toronto')]


# In[57]:


t_df = t_df.reset_index()
t_df.drop(columns='index',axis=1,inplace=True)


# ## Map of Toronto with neighbourhoods superimposed

# In[59]:


from geopy.geocoders import Nominatim
address = 'Toronto,ON Canada'

geodata = Nominatim(user_agent='Foursquare')
location = geodata.geocode(address)
lat = location.latitude
lng = location.longitude

print('The geographic address of {} is "{}, {}" '.format(address,lat,lng))


# In[64]:


toronto_map = folium.Map(location = [lat,lng],zoom_start=12)
# superimposing labels
for latitude,longitude,neighborhood,borough in zip(t_df['Latitude'],t_df['Longitude'],t_df['Neighborhood'],t_df['Borough']):
    label = '{}, {}'.format(neighborhood,borough)
    label = folium.Popup(label,parse_html=True)
    folium.CircleMarker(
    location=[latitude,longitude],
    radius = 5,
    popup = label,
    color = 'blue',
    fill = True,
    fill_color = '#3186cc',
    fill_opacity = 0.7,
    parse_html = False).add_to(toronto_map)

    
toronto_map


# ## Clustering Toronto Borough

# In[68]:


k=5
toronto_clusters = t_df.drop(['Postal Code','Borough','Neighborhood'],1)
kmeans = KMeans(n_clusters = k,random_state=0).fit(toronto_clusters)
kmeans.labels_
t_df.insert(0, 'Cluster Labels', kmeans.labels_)


# In[69]:


t_df


# In[76]:


# create map
clustered_map = folium.Map(location=[lat,lng],zoom_start=11)

# set color scheme for the clusters
x = np.arange(k)
ys = [i + x + (i*x)**2 for i in range(k)]
colors_array = cm.viridis_r(np.linspace(0, 1, len(ys)))
rainbow = [colors.rgb2hex(i) for i in colors_array]

# add markers to the map
markers_colors = []
for latitude, longitude, neighborhood, cluster in zip(t_df['Latitude'], t_df['Longitude'], t_df['Neighborhood'], t_df['Cluster Labels']):
    label = folium.Popup(' Cluster ' + str(cluster), parse_html=True)
    folium.CircleMarker(
        [latitude, longitude],
        radius=5,
        popup=label,
        color=rainbow[cluster-1],
        fill=True,
        fill_color=rainbow[cluster-1],
        fill_opacity=0.7).add_to(clustered_map)
       
clustered_map


# # Clustering Complete

# In[ ]:




